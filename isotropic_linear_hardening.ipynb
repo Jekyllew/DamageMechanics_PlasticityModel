{
 "cells": [
  {
   "cell_type": "markdown",
   "metadata": {
    "collapsed": false
   },
   "source": [
    "#Thermodynamics Notebook"
   ]
  },
  {
   "cell_type": "markdown",
   "metadata": {},
   "source": [
    "Adding necessary imports"
   ]
  },
  {
   "cell_type": "code",
   "execution_count": 2,
   "metadata": {
    "collapsed": true
   },
   "outputs": [],
   "source": [
    "import numpy as np\n",
    "from itertools import izip\n",
    "from math import *\n",
    "from scipy.optimize import fsolve, root, brentq, newton, bisect\n",
    "import matplotlib.pyplot as plt"
   ]
  }
